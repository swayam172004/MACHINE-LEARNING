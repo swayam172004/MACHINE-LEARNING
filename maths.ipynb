{
 "cells": [
  {
   "cell_type": "code",
   "execution_count": 1,
   "id": "a1e0f83b-de40-4a43-bb19-c2bacd28d4df",
   "metadata": {},
   "outputs": [],
   "source": [
    "import numpy as np\n",
    "import pandas as pd\n",
    "import matplotlib.pyplot as plt\n",
    "import seaborn as sns"
   ]
  },
  {
   "cell_type": "code",
   "execution_count": 2,
   "id": "140342f0-3e24-4255-b538-299f41f26aed",
   "metadata": {},
   "outputs": [
    {
     "data": {
      "text/plain": [
       "array([ 1,  2,  3,  4,  5,  6,  7,  8,  9, 10, 11, 12, 13])"
      ]
     },
     "execution_count": 2,
     "metadata": {},
     "output_type": "execute_result"
    }
   ],
   "source": [
    "df = np.array([1,2,3,4,5,6,7,8,9,10,11,12,13])\n",
    "df"
   ]
  },
  {
   "cell_type": "markdown",
   "id": "997d0a4a-01fb-4e95-aadf-8d630f5e937c",
   "metadata": {},
   "source": [
    "# mean"
   ]
  },
  {
   "cell_type": "code",
   "execution_count": 4,
   "id": "bf4bd6b7-3969-47ef-a24b-c535129bf33f",
   "metadata": {},
   "outputs": [
    {
     "data": {
      "text/plain": [
       "7.0"
      ]
     },
     "execution_count": 4,
     "metadata": {},
     "output_type": "execute_result"
    }
   ],
   "source": [
    "np.sum(df)/len(df)"
   ]
  },
  {
   "cell_type": "code",
   "execution_count": 5,
   "id": "e656d950-aef9-4211-b18c-0d9cf229f9af",
   "metadata": {},
   "outputs": [
    {
     "data": {
      "text/plain": [
       "7.0"
      ]
     },
     "execution_count": 5,
     "metadata": {},
     "output_type": "execute_result"
    }
   ],
   "source": [
    "np.mean(df)"
   ]
  },
  {
   "cell_type": "code",
   "execution_count": 6,
   "id": "2e5fa2df-ba74-4ca3-a9a3-ba96989ccb83",
   "metadata": {},
   "outputs": [],
   "source": [
    "data = pd.read_csv(\"Details.csv\")"
   ]
  },
  {
   "cell_type": "code",
   "execution_count": 7,
   "id": "e0e6a4bb-5c23-4ccb-b042-40302cf41e71",
   "metadata": {},
   "outputs": [
    {
     "data": {
      "text/html": [
       "<div>\n",
       "<style scoped>\n",
       "    .dataframe tbody tr th:only-of-type {\n",
       "        vertical-align: middle;\n",
       "    }\n",
       "\n",
       "    .dataframe tbody tr th {\n",
       "        vertical-align: top;\n",
       "    }\n",
       "\n",
       "    .dataframe thead th {\n",
       "        text-align: right;\n",
       "    }\n",
       "</style>\n",
       "<table border=\"1\" class=\"dataframe\">\n",
       "  <thead>\n",
       "    <tr style=\"text-align: right;\">\n",
       "      <th></th>\n",
       "      <th>Order ID</th>\n",
       "      <th>Amount</th>\n",
       "      <th>Profit</th>\n",
       "      <th>Quantity</th>\n",
       "      <th>Category</th>\n",
       "      <th>Sub-Category</th>\n",
       "      <th>PaymentMode</th>\n",
       "    </tr>\n",
       "  </thead>\n",
       "  <tbody>\n",
       "    <tr>\n",
       "      <th>0</th>\n",
       "      <td>B-25681</td>\n",
       "      <td>1096</td>\n",
       "      <td>658</td>\n",
       "      <td>7</td>\n",
       "      <td>Electronics</td>\n",
       "      <td>Electronic Games</td>\n",
       "      <td>COD</td>\n",
       "    </tr>\n",
       "    <tr>\n",
       "      <th>1</th>\n",
       "      <td>B-26055</td>\n",
       "      <td>5729</td>\n",
       "      <td>64</td>\n",
       "      <td>14</td>\n",
       "      <td>Furniture</td>\n",
       "      <td>Chairs</td>\n",
       "      <td>EMI</td>\n",
       "    </tr>\n",
       "    <tr>\n",
       "      <th>2</th>\n",
       "      <td>B-25955</td>\n",
       "      <td>2927</td>\n",
       "      <td>146</td>\n",
       "      <td>8</td>\n",
       "      <td>Furniture</td>\n",
       "      <td>Bookcases</td>\n",
       "      <td>EMI</td>\n",
       "    </tr>\n",
       "    <tr>\n",
       "      <th>3</th>\n",
       "      <td>B-26093</td>\n",
       "      <td>2847</td>\n",
       "      <td>712</td>\n",
       "      <td>8</td>\n",
       "      <td>Electronics</td>\n",
       "      <td>Printers</td>\n",
       "      <td>Credit Card</td>\n",
       "    </tr>\n",
       "    <tr>\n",
       "      <th>4</th>\n",
       "      <td>B-25602</td>\n",
       "      <td>2617</td>\n",
       "      <td>1151</td>\n",
       "      <td>4</td>\n",
       "      <td>Electronics</td>\n",
       "      <td>Phones</td>\n",
       "      <td>Credit Card</td>\n",
       "    </tr>\n",
       "    <tr>\n",
       "      <th>...</th>\n",
       "      <td>...</td>\n",
       "      <td>...</td>\n",
       "      <td>...</td>\n",
       "      <td>...</td>\n",
       "      <td>...</td>\n",
       "      <td>...</td>\n",
       "      <td>...</td>\n",
       "    </tr>\n",
       "    <tr>\n",
       "      <th>1495</th>\n",
       "      <td>B-25700</td>\n",
       "      <td>7</td>\n",
       "      <td>-3</td>\n",
       "      <td>2</td>\n",
       "      <td>Clothing</td>\n",
       "      <td>Hankerchief</td>\n",
       "      <td>COD</td>\n",
       "    </tr>\n",
       "    <tr>\n",
       "      <th>1496</th>\n",
       "      <td>B-25757</td>\n",
       "      <td>3151</td>\n",
       "      <td>-35</td>\n",
       "      <td>7</td>\n",
       "      <td>Clothing</td>\n",
       "      <td>Trousers</td>\n",
       "      <td>EMI</td>\n",
       "    </tr>\n",
       "    <tr>\n",
       "      <th>1497</th>\n",
       "      <td>B-25973</td>\n",
       "      <td>4141</td>\n",
       "      <td>1698</td>\n",
       "      <td>13</td>\n",
       "      <td>Electronics</td>\n",
       "      <td>Printers</td>\n",
       "      <td>COD</td>\n",
       "    </tr>\n",
       "    <tr>\n",
       "      <th>1498</th>\n",
       "      <td>B-25698</td>\n",
       "      <td>7</td>\n",
       "      <td>-2</td>\n",
       "      <td>1</td>\n",
       "      <td>Clothing</td>\n",
       "      <td>Hankerchief</td>\n",
       "      <td>COD</td>\n",
       "    </tr>\n",
       "    <tr>\n",
       "      <th>1499</th>\n",
       "      <td>B-25993</td>\n",
       "      <td>4363</td>\n",
       "      <td>305</td>\n",
       "      <td>5</td>\n",
       "      <td>Furniture</td>\n",
       "      <td>Tables</td>\n",
       "      <td>EMI</td>\n",
       "    </tr>\n",
       "  </tbody>\n",
       "</table>\n",
       "<p>1500 rows × 7 columns</p>\n",
       "</div>"
      ],
      "text/plain": [
       "     Order ID  Amount  Profit  Quantity     Category      Sub-Category  \\\n",
       "0     B-25681    1096     658         7  Electronics  Electronic Games   \n",
       "1     B-26055    5729      64        14    Furniture            Chairs   \n",
       "2     B-25955    2927     146         8    Furniture         Bookcases   \n",
       "3     B-26093    2847     712         8  Electronics          Printers   \n",
       "4     B-25602    2617    1151         4  Electronics            Phones   \n",
       "...       ...     ...     ...       ...          ...               ...   \n",
       "1495  B-25700       7      -3         2     Clothing       Hankerchief   \n",
       "1496  B-25757    3151     -35         7     Clothing          Trousers   \n",
       "1497  B-25973    4141    1698        13  Electronics          Printers   \n",
       "1498  B-25698       7      -2         1     Clothing       Hankerchief   \n",
       "1499  B-25993    4363     305         5    Furniture            Tables   \n",
       "\n",
       "      PaymentMode  \n",
       "0             COD  \n",
       "1             EMI  \n",
       "2             EMI  \n",
       "3     Credit Card  \n",
       "4     Credit Card  \n",
       "...           ...  \n",
       "1495          COD  \n",
       "1496          EMI  \n",
       "1497          COD  \n",
       "1498          COD  \n",
       "1499          EMI  \n",
       "\n",
       "[1500 rows x 7 columns]"
      ]
     },
     "execution_count": 7,
     "metadata": {},
     "output_type": "execute_result"
    }
   ],
   "source": [
    "data"
   ]
  },
  {
   "cell_type": "code",
   "execution_count": 35,
   "id": "e5e67124-c41f-4339-a5c2-c5bcc0415ebb",
   "metadata": {},
   "outputs": [
    {
     "data": {
      "text/plain": [
       "24.642"
      ]
     },
     "execution_count": 35,
     "metadata": {},
     "output_type": "execute_result"
    }
   ],
   "source": [
    "data['Profit'].mean()"
   ]
  },
  {
   "cell_type": "code",
   "execution_count": null,
   "id": "bb8a0c25-864a-4c7b-8572-d62247be71b8",
   "metadata": {},
   "outputs": [],
   "source": [
    "mn = np.mean(data['Orbital Eccentricity'])\n",
    "mn"
   ]
  },
  {
   "cell_type": "markdown",
   "id": "19aa2589-2cde-4292-98a8-72901347936e",
   "metadata": {},
   "source": [
    "# median"
   ]
  },
  {
   "cell_type": "code",
   "execution_count": null,
   "id": "20d196a0-2efb-48ae-bcf9-4fc988923897",
   "metadata": {},
   "outputs": [],
   "source": [
    "median = np.median(data['Orbital Period (days)'])\n",
    "median"
   ]
  },
  {
   "cell_type": "markdown",
   "id": "31b177c0-4a97-425a-824b-8ed699b78a6f",
   "metadata": {},
   "source": [
    "# mode"
   ]
  },
  {
   "cell_type": "code",
   "execution_count": null,
   "id": "5a4b6b8d-fd37-4808-aa67-02a924ac50b5",
   "metadata": {},
   "outputs": [],
   "source": [
    "mo = data[\"Composition\"].mode()[0]"
   ]
  },
  {
   "cell_type": "code",
   "execution_count": null,
   "id": "2df2cba9-63fb-4027-a025-b38837f92129",
   "metadata": {},
   "outputs": [],
   "source": [
    "import numpy as np\n",
    "import seaborn as sns\n",
    "import matplotlib.pyplot as plt\n",
    "\n",
    "# Ensure \"Orbital Eccentricity\" has no NaN values\n",
    "data = data.dropna(subset=[\"Orbital Eccentricity\"])\n",
    "\n",
    "# Adjust binning\n",
    "bins = np.linspace(0, 1, 20)  # More bins for better visibility\n",
    "\n",
    "# Plot histogram\n",
    "sns.histplot(x=\"Orbital Eccentricity\", data=data, bins=bins)\n",
    "\n",
    "# Add vertical lines for Mean, Median, Mode\n",
    "plt.axvline(mn, color=\"red\", label=\"Mean\")\n",
    "plt.axvline(median, color=\"blue\", label=\"Median\")\n",
    "plt.axvline(mo, color=\"green\", label=\"Mode\")\n",
    "\n",
    "# Show legend and plot\n",
    "plt.legend()\n",
    "plt.show()\n"
   ]
  },
  {
   "cell_type": "markdown",
   "id": "155d3072-df0d-4761-b208-41626ebba76a",
   "metadata": {},
   "source": [
    "# range"
   ]
  },
  {
   "cell_type": "code",
   "execution_count": null,
   "id": "bc65afe4-fbd1-4be1-b57b-1c05f09b7a32",
   "metadata": {},
   "outputs": [],
   "source": [
    "min2 = data['Planet Radius (km)'].min()\n",
    "min2"
   ]
  },
  {
   "cell_type": "code",
   "execution_count": null,
   "id": "43ae1a15-9571-44fe-93d8-0a102735ab23",
   "metadata": {},
   "outputs": [],
   "source": [
    "max2=data['Planet Radius (km)'].max()\n",
    "max2"
   ]
  },
  {
   "cell_type": "code",
   "execution_count": null,
   "id": "d6c590ee-127b-4779-a44e-e74d699d7564",
   "metadata": {},
   "outputs": [],
   "source": [
    "data_range = int(max2) - int(min2)\n",
    "data_range"
   ]
  },
  {
   "cell_type": "markdown",
   "id": "2f694403-ff6e-4576-a0f4-465d000c2dfc",
   "metadata": {},
   "source": [
    "# mean absolute error"
   ]
  },
  {
   "cell_type": "code",
   "execution_count": null,
   "id": "faf04a0a-34d6-4ba5-a6d4-07c10d3679dc",
   "metadata": {},
   "outputs": [],
   "source": [
    "s1 = np.array([54,34,26,59,65])\n",
    "s2 = np.array([95,88,64,78,85])\n",
    "no = np.array([1,2,3,4,5])\n",
    "mean = np.mean(s2)\n",
    "mean"
   ]
  },
  {
   "cell_type": "code",
   "execution_count": null,
   "id": "cf6224e3-f0c4-4ef6-9357-ad5bcfa257aa",
   "metadata": {},
   "outputs": [],
   "source": [
    "mse1 = np.sum(np.abs(s1-mean))/len(s1)\n",
    "mse2 = np.sum(np.abs(s2-mean))/len(s2)\n",
    "mse1,mse2"
   ]
  },
  {
   "cell_type": "code",
   "execution_count": null,
   "id": "716447b4-13f4-44ba-a9e7-7ec3ee488d1e",
   "metadata": {},
   "outputs": [],
   "source": [
    "import matplotlib.pyplot as plt\n",
    "\n",
    "plt.scatter(s1, no, label=\"S1 vs No\")\n",
    "plt.scatter(s2, no, label=\"S2 vs No\")\n",
    "\n",
    "# Using axvline or axhline for correct line plotting\n",
    "plt.axvline(x=mse1, color=\"red\", label=\"MSE Vertical Line\")  # Change to axhline if needed\n",
    "\n",
    "plt.legend()\n",
    "plt.show()\n"
   ]
  },
  {
   "cell_type": "markdown",
   "id": "7a808175-b270-4cc0-8bb5-36ba989aa978",
   "metadata": {},
   "source": [
    "# standerd deviation"
   ]
  },
  {
   "cell_type": "code",
   "execution_count": null,
   "id": "038e2a82-eff8-46b0-9770-bd5bc4430484",
   "metadata": {},
   "outputs": [],
   "source": [
    "np.std(s1),np.std(s2) # alwaya choose minimum"
   ]
  },
  {
   "cell_type": "markdown",
   "id": "c562e80b-d251-485c-811b-a0304eadda22",
   "metadata": {},
   "source": [
    "# varience"
   ]
  },
  {
   "cell_type": "code",
   "execution_count": null,
   "id": "1ae217ea-1979-40b0-af73-347a73bce2ba",
   "metadata": {},
   "outputs": [],
   "source": [
    "np.var(s1),np.var(s2) # always choose minimum"
   ]
  },
  {
   "cell_type": "code",
   "execution_count": null,
   "id": "8b5f0d3e-197e-4357-b5de-fd174fac5299",
   "metadata": {},
   "outputs": [],
   "source": [
    "VAR = np.var(data['Orbital Semi-Major Axis (AU)'])\n",
    "VAR"
   ]
  },
  {
   "cell_type": "code",
   "execution_count": null,
   "id": "ff5179ad-87d3-4aac-97c4-cb32c99f315a",
   "metadata": {},
   "outputs": [],
   "source": [
    "sns.histplot(x='Orbital Semi-Major Axis (AU)',data = data)\n",
    "\n",
    "plt.plot()"
   ]
  },
  {
   "cell_type": "code",
   "execution_count": 37,
   "id": "c283b09d-61f3-44d7-8dc5-2e8433770c5f",
   "metadata": {},
   "outputs": [
    {
     "data": {
      "text/html": [
       "<div>\n",
       "<style scoped>\n",
       "    .dataframe tbody tr th:only-of-type {\n",
       "        vertical-align: middle;\n",
       "    }\n",
       "\n",
       "    .dataframe tbody tr th {\n",
       "        vertical-align: top;\n",
       "    }\n",
       "\n",
       "    .dataframe thead th {\n",
       "        text-align: right;\n",
       "    }\n",
       "</style>\n",
       "<table border=\"1\" class=\"dataframe\">\n",
       "  <thead>\n",
       "    <tr style=\"text-align: right;\">\n",
       "      <th></th>\n",
       "      <th>Amount</th>\n",
       "      <th>Profit</th>\n",
       "      <th>Quantity</th>\n",
       "    </tr>\n",
       "  </thead>\n",
       "  <tbody>\n",
       "    <tr>\n",
       "      <th>count</th>\n",
       "      <td>1500.000000</td>\n",
       "      <td>1500.00000</td>\n",
       "      <td>1500.000000</td>\n",
       "    </tr>\n",
       "    <tr>\n",
       "      <th>mean</th>\n",
       "      <td>291.847333</td>\n",
       "      <td>24.64200</td>\n",
       "      <td>3.743333</td>\n",
       "    </tr>\n",
       "    <tr>\n",
       "      <th>std</th>\n",
       "      <td>461.924620</td>\n",
       "      <td>168.55881</td>\n",
       "      <td>2.184942</td>\n",
       "    </tr>\n",
       "    <tr>\n",
       "      <th>min</th>\n",
       "      <td>4.000000</td>\n",
       "      <td>-1981.00000</td>\n",
       "      <td>1.000000</td>\n",
       "    </tr>\n",
       "    <tr>\n",
       "      <th>25%</th>\n",
       "      <td>47.750000</td>\n",
       "      <td>-12.00000</td>\n",
       "      <td>2.000000</td>\n",
       "    </tr>\n",
       "    <tr>\n",
       "      <th>50%</th>\n",
       "      <td>122.000000</td>\n",
       "      <td>8.00000</td>\n",
       "      <td>3.000000</td>\n",
       "    </tr>\n",
       "    <tr>\n",
       "      <th>75%</th>\n",
       "      <td>326.250000</td>\n",
       "      <td>38.00000</td>\n",
       "      <td>5.000000</td>\n",
       "    </tr>\n",
       "    <tr>\n",
       "      <th>max</th>\n",
       "      <td>5729.000000</td>\n",
       "      <td>1864.00000</td>\n",
       "      <td>14.000000</td>\n",
       "    </tr>\n",
       "  </tbody>\n",
       "</table>\n",
       "</div>"
      ],
      "text/plain": [
       "            Amount      Profit     Quantity\n",
       "count  1500.000000  1500.00000  1500.000000\n",
       "mean    291.847333    24.64200     3.743333\n",
       "std     461.924620   168.55881     2.184942\n",
       "min       4.000000 -1981.00000     1.000000\n",
       "25%      47.750000   -12.00000     2.000000\n",
       "50%     122.000000     8.00000     3.000000\n",
       "75%     326.250000    38.00000     5.000000\n",
       "max    5729.000000  1864.00000    14.000000"
      ]
     },
     "execution_count": 37,
     "metadata": {},
     "output_type": "execute_result"
    }
   ],
   "source": [
    "data.describe()"
   ]
  },
  {
   "cell_type": "code",
   "execution_count": null,
   "id": "1940523c-5f3e-4ff6-9270-0e659ebe6798",
   "metadata": {},
   "outputs": [],
   "source": [
    "# percentiles = total no. data - rank/ total no. data\n",
    "# quartile = when divide percentile in 4 equal parts\n",
    "# q1 = 25% percentile, q2= 50%,q3 = 75%,q4=100%\n",
    "# iqr methods - inter quartile range method for finding outlier\n",
    "#iqr = q3-q1\n",
    "np.percentile(data['Planet Radius (km)'],50)"
   ]
  },
  {
   "cell_type": "code",
   "execution_count": null,
   "id": "145e803d-602e-42b8-b6da-f7f23d8f0b56",
   "metadata": {},
   "outputs": [],
   "source": [
    "sns.boxplot(x=\"Planet Radius (km)\",data=data)\n",
    "plt.plot()"
   ]
  },
  {
   "cell_type": "markdown",
   "id": "5d580521-1aef-4c5c-b729-15c8e1afed2e",
   "metadata": {},
   "source": [
    "# skewnees"
   ]
  },
  {
   "cell_type": "code",
   "execution_count": null,
   "id": "4d225e3a-7a1e-43e0-8e4d-4ef09778c8f7",
   "metadata": {},
   "outputs": [],
   "source": [
    "print(data[\"Planet Radius (km)\"].skew()) # If the value of skewness is greater than 1 so it is a positive skew chart \n",
    "sns.histplot(x=\"Planet Radius (km)\",data=data)\n",
    "plt.plot()"
   ]
  },
  {
   "cell_type": "code",
   "execution_count": null,
   "id": "fb49d83d-953c-4881-b23f-10988e9459e3",
   "metadata": {},
   "outputs": [],
   "source": [
    "d = np.random.normal(0,100,100) #If the value of skewness is smaller than 1 so it is a negativeitive skew chart \n",
    "df1 = pd.DataFrame({\"x\":d})\n",
    "print(df1['x'].skew())\n",
    "sns.histplot(x=\"x\",data=df1)\n",
    "plt.plot()"
   ]
  },
  {
   "cell_type": "code",
   "execution_count": null,
   "id": "ae48835b-53ee-4c3e-89f1-36109a55175a",
   "metadata": {},
   "outputs": [],
   "source": [
    "df1['x'].mean()\n",
    "#df['x'].median())\n",
    "#df['x'].mode()"
   ]
  },
  {
   "cell_type": "markdown",
   "id": "1a64e817-3607-4bc3-bc48-e7df7d6a8efd",
   "metadata": {},
   "source": [
    "# probability"
   ]
  },
  {
   "cell_type": "code",
   "execution_count": 40,
   "id": "8cf18afd-f627-4822-9c1f-65ca278e9932",
   "metadata": {},
   "outputs": [
    {
     "name": "stdout",
     "output_type": "stream",
     "text": [
      "<class 'pandas.core.frame.DataFrame'>\n",
      "RangeIndex: 1500 entries, 0 to 1499\n",
      "Data columns (total 7 columns):\n",
      " #   Column        Non-Null Count  Dtype \n",
      "---  ------        --------------  ----- \n",
      " 0   Order ID      1500 non-null   object\n",
      " 1   Amount        1500 non-null   int64 \n",
      " 2   Profit        1500 non-null   int64 \n",
      " 3   Quantity      1500 non-null   int64 \n",
      " 4   Category      1500 non-null   object\n",
      " 5   Sub-Category  1500 non-null   object\n",
      " 6   PaymentMode   1500 non-null   object\n",
      "dtypes: int64(3), object(4)\n",
      "memory usage: 82.2+ KB\n"
     ]
    }
   ],
   "source": [
    "df = pd.read_csv(\"Details.csv\")\n",
    "df.info()"
   ]
  },
  {
   "cell_type": "code",
   "execution_count": 42,
   "id": "2766309d-f2db-4811-a77e-369f56aba227",
   "metadata": {},
   "outputs": [
    {
     "data": {
      "text/html": [
       "<div>\n",
       "<style scoped>\n",
       "    .dataframe tbody tr th:only-of-type {\n",
       "        vertical-align: middle;\n",
       "    }\n",
       "\n",
       "    .dataframe tbody tr th {\n",
       "        vertical-align: top;\n",
       "    }\n",
       "\n",
       "    .dataframe thead th {\n",
       "        text-align: right;\n",
       "    }\n",
       "</style>\n",
       "<table border=\"1\" class=\"dataframe\">\n",
       "  <thead>\n",
       "    <tr style=\"text-align: right;\">\n",
       "      <th></th>\n",
       "      <th>Amount</th>\n",
       "      <th>Profit</th>\n",
       "      <th>Quantity</th>\n",
       "    </tr>\n",
       "  </thead>\n",
       "  <tbody>\n",
       "    <tr>\n",
       "      <th>Amount</th>\n",
       "      <td>1.000000</td>\n",
       "      <td>0.309242</td>\n",
       "      <td>0.352486</td>\n",
       "    </tr>\n",
       "    <tr>\n",
       "      <th>Profit</th>\n",
       "      <td>0.309242</td>\n",
       "      <td>1.000000</td>\n",
       "      <td>0.063096</td>\n",
       "    </tr>\n",
       "    <tr>\n",
       "      <th>Quantity</th>\n",
       "      <td>0.352486</td>\n",
       "      <td>0.063096</td>\n",
       "      <td>1.000000</td>\n",
       "    </tr>\n",
       "  </tbody>\n",
       "</table>\n",
       "</div>"
      ],
      "text/plain": [
       "            Amount    Profit  Quantity\n",
       "Amount    1.000000  0.309242  0.352486\n",
       "Profit    0.309242  1.000000  0.063096\n",
       "Quantity  0.352486  0.063096  1.000000"
      ]
     },
     "execution_count": 42,
     "metadata": {},
     "output_type": "execute_result"
    }
   ],
   "source": [
    "cor = df.select_dtypes(['float64','int64']).corr()\n",
    "cor"
   ]
  },
  {
   "cell_type": "code",
   "execution_count": 44,
   "id": "5c74bbaf-85db-4fb7-bc5e-8b47826bd3bf",
   "metadata": {},
   "outputs": [
    {
     "data": {
      "text/html": [
       "<div>\n",
       "<style scoped>\n",
       "    .dataframe tbody tr th:only-of-type {\n",
       "        vertical-align: middle;\n",
       "    }\n",
       "\n",
       "    .dataframe tbody tr th {\n",
       "        vertical-align: top;\n",
       "    }\n",
       "\n",
       "    .dataframe thead th {\n",
       "        text-align: right;\n",
       "    }\n",
       "</style>\n",
       "<table border=\"1\" class=\"dataframe\">\n",
       "  <thead>\n",
       "    <tr style=\"text-align: right;\">\n",
       "      <th></th>\n",
       "      <th>Amount</th>\n",
       "      <th>Profit</th>\n",
       "      <th>Quantity</th>\n",
       "    </tr>\n",
       "  </thead>\n",
       "  <tbody>\n",
       "    <tr>\n",
       "      <th>Amount</th>\n",
       "      <td>213374.354930</td>\n",
       "      <td>24078.053381</td>\n",
       "      <td>355.756653</td>\n",
       "    </tr>\n",
       "    <tr>\n",
       "      <th>Profit</th>\n",
       "      <td>24078.053381</td>\n",
       "      <td>28412.072551</td>\n",
       "      <td>23.237605</td>\n",
       "    </tr>\n",
       "    <tr>\n",
       "      <th>Quantity</th>\n",
       "      <td>355.756653</td>\n",
       "      <td>23.237605</td>\n",
       "      <td>4.773972</td>\n",
       "    </tr>\n",
       "  </tbody>\n",
       "</table>\n",
       "</div>"
      ],
      "text/plain": [
       "                 Amount        Profit    Quantity\n",
       "Amount    213374.354930  24078.053381  355.756653\n",
       "Profit     24078.053381  28412.072551   23.237605\n",
       "Quantity     355.756653     23.237605    4.773972"
      ]
     },
     "execution_count": 44,
     "metadata": {},
     "output_type": "execute_result"
    }
   ],
   "source": [
    "cov = df.select_dtypes(['float64','int64']).cov()\n",
    "cov"
   ]
  },
  {
   "cell_type": "code",
   "execution_count": 50,
   "id": "31578608-68a1-429d-93c7-42c7f4100e6b",
   "metadata": {},
   "outputs": [
    {
     "data": {
      "image/png": "[encoded data removed]",
      "text/plain": [
       "<Figure size 640x480 with 2 Axes>"
      ]
     },
     "metadata": {},
     "output_type": "display_data"
    }
   ],
   "source": [
    "sns.heatmap(cor,annot= True)\n",
    "plt.show()"
   ]
  },
  {
   "cell_type": "code",
   "execution_count": 52,
   "id": "e4bcb777-2cc5-443e-b7f6-c86d03d5ab57",
   "metadata": {},
   "outputs": [
    {
     "data": {
      "image/png": "[encoded data removed]",
      "text/plain": [
       "<Figure size 640x480 with 2 Axes>"
      ]
     },
     "metadata": {},
     "output_type": "display_data"
    }
   ],
   "source": [
    "sns.heatmap(cov,annot= True)\n",
    "plt.show()"
   ]
  },
  {
   "cell_type": "markdown",
   "id": "98d20f89-cd4c-4be3-ac68-fb4b022ea054",
   "metadata": {},
   "source": [
    "# central limit thēorem"
   ]
  },
  {
   "cell_type": "code",
   "execution_count": 54,
   "id": "2a7eff6a-9e7d-4262-a14f-2a549c7dc507",
   "metadata": {},
   "outputs": [
    {
     "data": {
      "text/html": [
       "<div>\n",
       "<style scoped>\n",
       "    .dataframe tbody tr th:only-of-type {\n",
       "        vertical-align: middle;\n",
       "    }\n",
       "\n",
       "    .dataframe tbody tr th {\n",
       "        vertical-align: top;\n",
       "    }\n",
       "\n",
       "    .dataframe thead th {\n",
       "        text-align: right;\n",
       "    }\n",
       "</style>\n",
       "<table border=\"1\" class=\"dataframe\">\n",
       "  <thead>\n",
       "    <tr style=\"text-align: right;\">\n",
       "      <th></th>\n",
       "      <th>pop</th>\n",
       "    </tr>\n",
       "  </thead>\n",
       "  <tbody>\n",
       "    <tr>\n",
       "      <th>0</th>\n",
       "      <td>91</td>\n",
       "    </tr>\n",
       "    <tr>\n",
       "      <th>1</th>\n",
       "      <td>39</td>\n",
       "    </tr>\n",
       "    <tr>\n",
       "      <th>2</th>\n",
       "      <td>97</td>\n",
       "    </tr>\n",
       "    <tr>\n",
       "      <th>3</th>\n",
       "      <td>38</td>\n",
       "    </tr>\n",
       "    <tr>\n",
       "      <th>4</th>\n",
       "      <td>50</td>\n",
       "    </tr>\n",
       "    <tr>\n",
       "      <th>...</th>\n",
       "      <td>...</td>\n",
       "    </tr>\n",
       "    <tr>\n",
       "      <th>9995</th>\n",
       "      <td>17</td>\n",
       "    </tr>\n",
       "    <tr>\n",
       "      <th>9996</th>\n",
       "      <td>31</td>\n",
       "    </tr>\n",
       "    <tr>\n",
       "      <th>9997</th>\n",
       "      <td>85</td>\n",
       "    </tr>\n",
       "    <tr>\n",
       "      <th>9998</th>\n",
       "      <td>61</td>\n",
       "    </tr>\n",
       "    <tr>\n",
       "      <th>9999</th>\n",
       "      <td>45</td>\n",
       "    </tr>\n",
       "  </tbody>\n",
       "</table>\n",
       "<p>10000 rows × 1 columns</p>\n",
       "</div>"
      ],
      "text/plain": [
       "      pop\n",
       "0      91\n",
       "1      39\n",
       "2      97\n",
       "3      38\n",
       "4      50\n",
       "...   ...\n",
       "9995   17\n",
       "9996   31\n",
       "9997   85\n",
       "9998   61\n",
       "9999   45\n",
       "\n",
       "[10000 rows x 1 columns]"
      ]
     },
     "execution_count": 54,
     "metadata": {},
     "output_type": "execute_result"
    }
   ],
   "source": [
    "pop = [np.random.randint(10,100) for i in range(10000)]\n",
    "table = pd.DataFrame({\"pop\":pop})\n",
    "table"
   ]
  },
  {
   "cell_type": "code",
   "execution_count": 56,
   "id": "8ab0f64c-dfb5-43be-88d5-1f906844eef9",
   "metadata": {},
   "outputs": [
    {
     "data": {
      "image/png": "[encoded data removed]",
      "text/plain": [
       "<Figure size 640x480 with 1 Axes>"
      ]
     },
     "metadata": {},
     "output_type": "display_data"
    }
   ],
   "source": [
    "sns.kdeplot(x=\"pop\",data = table)\n",
    "plt.show()"
   ]
  },
  {
   "cell_type": "code",
   "execution_count": 58,
   "id": "23b2760d-d204-4e1a-8371-0050597fa47e",
   "metadata": {},
   "outputs": [],
   "source": [
    "mean=[]\n",
    "for i in range(150):\n",
    "    sample = []\n",
    "    for i in range(50):\n",
    "        sample.append(np.random.choice(table['pop']))\n",
    "    mean.append(np.mean(sample))"
   ]
  },
  {
   "cell_type": "code",
   "execution_count": 59,
   "id": "34b10363-f16d-403b-b714-4dff961b40a4",
   "metadata": {},
   "outputs": [
    {
     "data": {
      "image/png": "[encoded data removed]",
      "text/plain": [
       "<Figure size 640x480 with 1 Axes>"
      ]
     },
     "metadata": {},
     "output_type": "display_data"
    }
   ],
   "source": [
    "df = pd.DataFrame({'sample':mean})\n",
    "sns.kdeplot(x=\"sample\",data = df)\n",
    "plt.show()"
   ]
  },
  {
   "cell_type": "code",
   "execution_count": 61,
   "id": "4d130e3f-029e-4b80-836a-990d2c02b5b4",
   "metadata": {},
   "outputs": [
    {
     "data": {
      "text/plain": [
       "54.3577"
      ]
     },
     "execution_count": 61,
     "metadata": {},
     "output_type": "execute_result"
    }
   ],
   "source": [
    "np.mean(pop)"
   ]
  },
  {
   "cell_type": "code",
   "execution_count": 64,
   "id": "22230763-6ce5-46c2-a507-6cf90c96a2b2",
   "metadata": {},
   "outputs": [
    {
     "data": {
      "text/plain": [
       "52.5"
      ]
     },
     "execution_count": 64,
     "metadata": {},
     "output_type": "execute_result"
    }
   ],
   "source": [
    "np.mean(sample)"
   ]
  },
  {
   "cell_type": "markdown",
   "id": "f6954483-146d-400a-887b-b83b7b901048",
   "metadata": {},
   "source": [
    "# hypothesis testing"
   ]
  },
  {
   "cell_type": "markdown",
   "id": "2822012a-4c42-44ad-841a-14bea54cf357",
   "metadata": {},
   "source": [
    "# z-test when n >= 30 , "
   ]
  },
  {
   "cell_type": "raw",
   "id": "be7c57bd-3de5-46ae-b2a7-f77ed6ee6989",
   "metadata": {},
   "source": [
    " z = (x-u)/(std/np.sqrt(n))"
   ]
  },
  {
   "cell_type": "markdown",
   "id": "93e38855-caeb-40c7-bea0-a402a56908d3",
   "metadata": {},
   "source": [
    "# question 1"
   ]
  },
  {
   "cell_type": "code",
   "execution_count": 69,
   "id": "c9b7d5ba-134f-4848-ad63-6212355520ac",
   "metadata": {},
   "outputs": [
    {
     "data": {
      "text/plain": [
       "3.5999999999999996"
      ]
     },
     "execution_count": 69,
     "metadata": {},
     "output_type": "execute_result"
    }
   ],
   "source": [
    "import scipy.stats as st\n",
    "import numpy as np\n",
    "s_x = 90 # sample mean\n",
    "p_u = 82 # pop mean\n",
    "psd = 20\n",
    "n = 81\n",
    "z_calc = (s_x - p_u)/(psd/(np.sqrt(n))) \n",
    "z_calc"
   ]
  },
  {
   "cell_type": "code",
   "execution_count": 71,
   "id": "19fd7794-5f54-445c-88fa-3fe66683b66f",
   "metadata": {},
   "outputs": [
    {
     "data": {
      "text/plain": [
       "1.6448536269514722"
      ]
     },
     "execution_count": 71,
     "metadata": {},
     "output_type": "execute_result"
    }
   ],
   "source": [
    "z_table = st.norm.ppf(0.95)\n",
    "z_table"
   ]
  },
  {
   "cell_type": "code",
   "execution_count": 73,
   "id": "2d40af30-5a17-4996-aaac-f15d847b689f",
   "metadata": {},
   "outputs": [
    {
     "name": "stdout",
     "output_type": "stream",
     "text": [
      "ha is right\n"
     ]
    }
   ],
   "source": [
    "if z_table<z_calc:\n",
    "    print(\"ha is right\") # null hypothesis\n",
    "else:\n",
    "    print(\"ho is right\") # alternative hypothesis"
   ]
  },
  {
   "cell_type": "markdown",
   "id": "61c7c754-b553-4fae-b6ce-8c58731f94dc",
   "metadata": {},
   "source": [
    "# t-test when n < 30 , data is normally distributed "
   ]
  },
  {
   "cell_type": "raw",
   "id": "4724130e-3f9b-4abd-a22f-97f74cccb9ae",
   "metadata": {},
   "source": [
    "t = (x-u)/(s/np.sqrt(n))"
   ]
  },
  {
   "cell_type": "markdown",
   "id": "c29d2d9f-c7e8-4785-9a98-53c15e74c71f",
   "metadata": {},
   "source": [
    "# question 1"
   ]
  },
  {
   "cell_type": "code",
   "execution_count": 75,
   "id": "d15f28c7-9ed1-455f-98e2-50eb78f10b4c",
   "metadata": {},
   "outputs": [
    {
     "data": {
      "text/plain": [
       "-1.7108820799094282"
      ]
     },
     "execution_count": 75,
     "metadata": {},
     "output_type": "execute_result"
    }
   ],
   "source": [
    "u = 150 # pop mean\n",
    "x = 148\n",
    "n = 25\n",
    "s = 5\n",
    "# ho : sample mean 150 gm\n",
    "# h1 : u < 150 gm\n",
    "los = 0.05 # level of significance\n",
    "dof = n-1 # degree of freedom 24\n",
    "t_table = st.t.ppf(0.05,24)\n",
    "t_table\n"
   ]
  },
  {
   "cell_type": "code",
   "execution_count": 77,
   "id": "e6bbd750-5cbc-44eb-83d1-24f43d6964fe",
   "metadata": {},
   "outputs": [
    {
     "data": {
      "text/plain": [
       "-2.0"
      ]
     },
     "execution_count": 77,
     "metadata": {},
     "output_type": "execute_result"
    }
   ],
   "source": [
    "t_calac = (x-u)/(s/np.sqrt(n))\n",
    "t_calac"
   ]
  },
  {
   "cell_type": "code",
   "execution_count": 79,
   "id": "331766d7-e0c2-4430-8dc5-8e8db064eeb0",
   "metadata": {},
   "outputs": [
    {
     "name": "stdout",
     "output_type": "stream",
     "text": [
      "ho is right\n"
     ]
    }
   ],
   "source": [
    "if t_table<t_calac:\n",
    "    print(\"ha is right\") # null hypothesis\n",
    "else:\n",
    "    print(\"ho is right\") # alternative hypothesis"
   ]
  },
  {
   "cell_type": "markdown",
   "id": "190ca386-f870-4a76-aa59-0193205db360",
   "metadata": {},
   "source": [
    "# question 2"
   ]
  },
  {
   "cell_type": "raw",
   "id": "17b21589-757f-4516-b57e-6b43176e46d3",
   "metadata": {},
   "source": [
    "t = (xa-xb)-(ua-ub)/(np.sqrt((sa**2/n1)+(sb**2/n2)))"
   ]
  },
  {
   "cell_type": "code",
   "execution_count": 82,
   "id": "efac1f03-d1d4-467e-9a74-7c5009a2d62f",
   "metadata": {},
   "outputs": [],
   "source": [
    "# 2 tailed test\n",
    "ua = ub = 0 # pop mean\n",
    "xa = 80 # sample mean\n",
    "xb = 75\n",
    "n1 = n2 = 20\n",
    "sa = 5 # standerd deviation\n",
    "sb = 6\n",
    "# ha : pa - pb = 0\n",
    "# h1 : pa not = pb\n",
    "los = 0.025 # level of significance\n",
    "dof = 38 # degree of freedom 24\n",
    "t_table = st.t.ppf(0.025,38)"
   ]
  },
  {
   "cell_type": "code",
   "execution_count": null,
   "id": "8b92cf8f-b402-443f-87e1-bf1f91d26647",
   "metadata": {},
   "outputs": [],
   "source": [
    "t_calc = (xa-xb)/(np.sqrt((sa**2/n1)+(sb**2/n2)))\n",
    "t_calc"
   ]
  },
  {
   "cell_type": "code",
   "execution_count": null,
   "id": "9604097d-836e-4d64-b022-102ab3ab862e",
   "metadata": {},
   "outputs": [],
   "source": [
    "if t_table<t_calac:\n",
    "    print(\"ha is right\") # null hypothesis\n",
    "else:\n",
    "    print(\"ho is right\")"
   ]
  },
  {
   "cell_type": "markdown",
   "id": "c2399b87-7127-4f00-96c9-0352420c1067",
   "metadata": {},
   "source": [
    "# Chi-squre test"
   ]
  },
  {
   "cell_type": "markdown",
   "id": "fd96f808-f526-40e9-a9b7-bc853462f4ba",
   "metadata": {},
   "source": [
    "# question 1"
   ]
  },
  {
   "cell_type": "code",
   "execution_count": null,
   "id": "45c870a7-c1e1-40e7-94a3-7e5ebf865f01",
   "metadata": {},
   "outputs": [],
   "source": [
    "ob = np.array([22,17,20,26,22,13])\n",
    "ex = np.array([20,20,20,20,20,20])\n",
    "chisquare_calc = np.sum(np.square(ob-ex)/ex)\n",
    "chisquare_calc\n",
    "#Ho: die is fair\n",
    "#Ha : die is not fair\n",
    "chi_table = 11.07\n",
    "if chi_table<chisquare_calc:\n",
    "    print(\"ha is right\") # null hypothesis\n",
    "else:\n",
    "    print(\"ho is right\")\n"
   ]
  },
  {
   "cell_type": "markdown",
   "id": "e18baa5e-f872-4558-bad9-233c99f9d9a5",
   "metadata": {},
   "source": [
    "# question 2"
   ]
  },
  {
   "cell_type": "code",
   "execution_count": null,
   "id": "cb45063f-b730-4825-9730-229331bb6ed0",
   "metadata": {},
   "outputs": [],
   "source": [
    "# Ho : no association\n",
    "# Ha : associated\n",
    "chi_table = 7.815\n",
    "dof = 3\n",
    "los = 0.05\n",
    "row1 = np.array([40,45,25,10])\n",
    "row2 = np.array([35,30,20,30])"
   ]
  },
  {
   "cell_type": "code",
   "execution_count": null,
   "id": "0e470b58-c56a-4352-af09-705c2f0b6f5b",
   "metadata": {
    "scrolled": true
   },
   "outputs": [],
   "source": [
    "sumr1 =  np.sum(row1)\n",
    "sumr2 = np.sum(row2)\n",
    "sumrow = np.array([sumr1,sumr2])\n",
    "sum_cal = row1 + row2 \n",
    "sum_cal"
   ]
  },
  {
   "cell_type": "code",
   "execution_count": null,
   "id": "c3c2c42b-0aef-42c8-92d1-1a297a888a0d",
   "metadata": {},
   "outputs": [],
   "source": [
    "exp = []\n",
    "for i in sumrow:\n",
    "    for j in sum_cal:\n",
    "        val = (i*j)/235\n",
    "        exp.append(val)\n",
    "\n",
    "obj = np.array([40,45,25,10,35,30,20,30])\n"
   ]
  },
  {
   "cell_type": "code",
   "execution_count": null,
   "id": "07a5b6f1-bb5d-4cf2-80ae-f53c4644677f",
   "metadata": {},
   "outputs": [],
   "source": [
    "chisquare_calc = np.sum((np.square(obj-exp))/exp)\n",
    "chisquare_calc"
   ]
  },
  {
   "cell_type": "code",
   "execution_count": null,
   "id": "0c3b141e-805f-42d6-92e8-990b7251aace",
   "metadata": {},
   "outputs": [],
   "source": [
    "if chi_table<chisquare_calc:\n",
    "    print(\"ha is right\") # null hypothesis\n",
    "else:\n",
    "    print(\"ho is right\")\n"
   ]
  }
 ],
 "metadata": {
  "kernelspec": {
   "display_name": "Python 3 (ipykernel)",
   "language": "python",
   "name": "python3"
  },
  "language_info": {
   "codemirror_mode": {
    "name": "ipython",
    "version": 3
   },
   "file_extension": ".py",
   "mimetype": "text/x-python",
   "name": "python",
   "nbconvert_exporter": "python",
   "pygments_lexer": "ipython3",
   "version": "3.12.4"
  }
 },
 "nbformat": 4,
 "nbformat_minor": 5
}
